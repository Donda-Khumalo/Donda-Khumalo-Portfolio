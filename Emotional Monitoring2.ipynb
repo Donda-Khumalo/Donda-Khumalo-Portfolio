{
 "cells": [
  {
   "cell_type": "code",
   "execution_count": 1,
   "id": "fcb35ad3-375f-4f5b-b376-2df614f8ebd7",
   "metadata": {},
   "outputs": [
    {
     "name": "stdout",
     "output_type": "stream",
     "text": [
      "Requirement already satisfied: kaggle in c:\\users\\pixel\\appdata\\local\\programs\\python\\python311\\lib\\site-packages (1.6.17)\n",
      "Requirement already satisfied: six>=1.10 in c:\\users\\pixel\\appdata\\local\\programs\\python\\python311\\lib\\site-packages (from kaggle) (1.17.0)\n",
      "Requirement already satisfied: certifi>=2023.7.22 in c:\\users\\pixel\\appdata\\local\\programs\\python\\python311\\lib\\site-packages (from kaggle) (2024.12.14)\n",
      "Requirement already satisfied: python-dateutil in c:\\users\\pixel\\appdata\\local\\programs\\python\\python311\\lib\\site-packages (from kaggle) (2.9.0.post0)\n",
      "Requirement already satisfied: requests in c:\\users\\pixel\\appdata\\local\\programs\\python\\python311\\lib\\site-packages (from kaggle) (2.32.3)\n",
      "Requirement already satisfied: tqdm in c:\\users\\pixel\\appdata\\local\\programs\\python\\python311\\lib\\site-packages (from kaggle) (4.67.1)\n",
      "Requirement already satisfied: python-slugify in c:\\users\\pixel\\appdata\\local\\programs\\python\\python311\\lib\\site-packages (from kaggle) (8.0.4)\n",
      "Requirement already satisfied: urllib3 in c:\\users\\pixel\\appdata\\local\\programs\\python\\python311\\lib\\site-packages (from kaggle) (2.3.0)\n",
      "Requirement already satisfied: bleach in c:\\users\\pixel\\appdata\\local\\programs\\python\\python311\\lib\\site-packages (from kaggle) (6.2.0)\n",
      "Requirement already satisfied: webencodings in c:\\users\\pixel\\appdata\\local\\programs\\python\\python311\\lib\\site-packages (from bleach->kaggle) (0.5.1)\n",
      "Requirement already satisfied: text-unidecode>=1.3 in c:\\users\\pixel\\appdata\\local\\programs\\python\\python311\\lib\\site-packages (from python-slugify->kaggle) (1.3)\n",
      "Requirement already satisfied: charset-normalizer<4,>=2 in c:\\users\\pixel\\appdata\\local\\programs\\python\\python311\\lib\\site-packages (from requests->kaggle) (3.4.1)\n",
      "Requirement already satisfied: idna<4,>=2.5 in c:\\users\\pixel\\appdata\\local\\programs\\python\\python311\\lib\\site-packages (from requests->kaggle) (3.10)\n",
      "Requirement already satisfied: colorama in c:\\users\\pixel\\appdata\\local\\programs\\python\\python311\\lib\\site-packages (from tqdm->kaggle) (0.4.6)\n"
     ]
    }
   ],
   "source": [
    "! py -m pip install kaggle"
   ]
  },
  {
   "cell_type": "code",
   "execution_count": 2,
   "id": "3eca2d9b-c36b-46a9-8c79-b223bb1d79f6",
   "metadata": {},
   "outputs": [],
   "source": [
    "import kaggle"
   ]
  },
  {
   "cell_type": "code",
   "execution_count": 3,
   "id": "3285719a-f4b9-43f2-8447-21354f9d1abb",
   "metadata": {
    "scrolled": true
   },
   "outputs": [
    {
     "name": "stdout",
     "output_type": "stream",
     "text": [
      "^C\n",
      "- path is now set to: C:\\Users\\pixel\\$ML_PATHA\\datasets\n",
      "Dataset URL: https://www.kaggle.com/datasets/ziya07/emotional-monitoring-dataset\n",
      "License(s): CC0-1.0\n",
      "Downloading emotional-monitoring-dataset.zip to C:\\Users\\pixel\\$ML_PATHA\\datasets\\datasets\\ziya07\\emotional-monitoring-dataset\n",
      "\n"
     ]
    },
    {
     "name": "stderr",
     "output_type": "stream",
     "text": [
      "\n",
      "  0%|          | 0.00/72.7k [00:00<?, ?B/s]\n",
      "100%|##########| 72.7k/72.7k [00:00<00:00, 173kB/s]\n",
      "100%|##########| 72.7k/72.7k [00:00<00:00, 171kB/s]\n"
     ]
    }
   ],
   "source": [
    "! kaggle config set -n path -v C:\\Users\\pixel\\$ML_PATHA\\datasets\n",
    "! kaggle datasets download ziya07/emotional-monitoring-dataset"
   ]
  },
  {
   "cell_type": "code",
   "execution_count": null,
   "id": "cb649d2d-8aa9-4221-a2e4-5c1be8c57c2d",
   "metadata": {},
   "outputs": [],
   "source": [
    "! pip install pandas"
   ]
  },
  {
   "cell_type": "code",
   "execution_count": 12,
   "id": "0f0459c8-9dee-4a08-b66f-3478e944be36",
   "metadata": {},
   "outputs": [
    {
     "name": "stdout",
     "output_type": "stream",
     "text": [
      "Requirement already satisfied: matplotlib in c:\\users\\pixel\\appdata\\local\\programs\\python\\python311\\lib\\site-packages (3.10.0)\n",
      "Requirement already satisfied: contourpy>=1.0.1 in c:\\users\\pixel\\appdata\\local\\programs\\python\\python311\\lib\\site-packages (from matplotlib) (1.3.1)\n",
      "Requirement already satisfied: cycler>=0.10 in c:\\users\\pixel\\appdata\\local\\programs\\python\\python311\\lib\\site-packages (from matplotlib) (0.12.1)\n",
      "Requirement already satisfied: fonttools>=4.22.0 in c:\\users\\pixel\\appdata\\local\\programs\\python\\python311\\lib\\site-packages (from matplotlib) (4.55.3)\n",
      "Requirement already satisfied: kiwisolver>=1.3.1 in c:\\users\\pixel\\appdata\\local\\programs\\python\\python311\\lib\\site-packages (from matplotlib) (1.4.8)\n",
      "Requirement already satisfied: numpy>=1.23 in c:\\users\\pixel\\appdata\\local\\programs\\python\\python311\\lib\\site-packages (from matplotlib) (2.2.1)\n",
      "Requirement already satisfied: packaging>=20.0 in c:\\users\\pixel\\appdata\\local\\programs\\python\\python311\\lib\\site-packages (from matplotlib) (24.2)\n",
      "Requirement already satisfied: pillow>=8 in c:\\users\\pixel\\appdata\\local\\programs\\python\\python311\\lib\\site-packages (from matplotlib) (11.1.0)\n",
      "Requirement already satisfied: pyparsing>=2.3.1 in c:\\users\\pixel\\appdata\\local\\programs\\python\\python311\\lib\\site-packages (from matplotlib) (3.2.1)\n",
      "Requirement already satisfied: python-dateutil>=2.7 in c:\\users\\pixel\\appdata\\local\\programs\\python\\python311\\lib\\site-packages (from matplotlib) (2.9.0.post0)\n",
      "Requirement already satisfied: six>=1.5 in c:\\users\\pixel\\appdata\\local\\programs\\python\\python311\\lib\\site-packages (from python-dateutil>=2.7->matplotlib) (1.17.0)\n"
     ]
    }
   ],
   "source": [
    "! pip install matplotlib"
   ]
  },
  {
   "cell_type": "code",
   "execution_count": 13,
   "id": "2629aeef-2b26-4e5a-9152-6e9601a4d589",
   "metadata": {},
   "outputs": [
    {
     "name": "stdout",
     "output_type": "stream",
     "text": [
      "<class 'pandas.core.frame.DataFrame'>\n",
      "RangeIndex: 1000 entries, 0 to 999\n",
      "Data columns (total 14 columns):\n",
      " #   Column             Non-Null Count  Dtype  \n",
      "---  ------             --------------  -----  \n",
      " 0   HeartRate          1000 non-null   int64  \n",
      " 1   SkinConductance    1000 non-null   float64\n",
      " 2   EEG                1000 non-null   float64\n",
      " 3   Temperature        1000 non-null   float64\n",
      " 4   PupilDiameter      1000 non-null   float64\n",
      " 5   SmileIntensity     1000 non-null   float64\n",
      " 6   FrownIntensity     1000 non-null   float64\n",
      " 7   CortisolLevel      1000 non-null   float64\n",
      " 8   ActivityLevel      1000 non-null   int64  \n",
      " 9   AmbientNoiseLevel  1000 non-null   int64  \n",
      " 10  LightingLevel      1000 non-null   int64  \n",
      " 11  EmotionalState     1000 non-null   object \n",
      " 12  CognitiveState     1000 non-null   object \n",
      " 13  EngagementLevel    1000 non-null   int64  \n",
      "dtypes: float64(7), int64(5), object(2)\n",
      "memory usage: 109.5+ KB\n",
      "None\n"
     ]
    }
   ],
   "source": [
    "import pandas as pd\n",
    "\n",
    "df = pd.read_csv('datasets\\emotional_monitoring_dataset_with_target.csv')\n",
    "\n",
    "import matplotlib.pyplot as plt\n",
    "\n",
    "print(df.info())"
   ]
  },
  {
   "cell_type": "code",
   "execution_count": 14,
   "id": "91ebed91-30ff-4c05-8e08-4f81f1e49bc7",
   "metadata": {},
   "outputs": [
    {
     "data": {
      "text/html": [
       "<div>\n",
       "<style scoped>\n",
       "    .dataframe tbody tr th:only-of-type {\n",
       "        vertical-align: middle;\n",
       "    }\n",
       "\n",
       "    .dataframe tbody tr th {\n",
       "        vertical-align: top;\n",
       "    }\n",
       "\n",
       "    .dataframe thead th {\n",
       "        text-align: right;\n",
       "    }\n",
       "</style>\n",
       "<table border=\"1\" class=\"dataframe\">\n",
       "  <thead>\n",
       "    <tr style=\"text-align: right;\">\n",
       "      <th></th>\n",
       "      <th>HeartRate</th>\n",
       "      <th>SkinConductance</th>\n",
       "      <th>EEG</th>\n",
       "      <th>Temperature</th>\n",
       "      <th>PupilDiameter</th>\n",
       "      <th>SmileIntensity</th>\n",
       "      <th>FrownIntensity</th>\n",
       "      <th>CortisolLevel</th>\n",
       "      <th>ActivityLevel</th>\n",
       "      <th>AmbientNoiseLevel</th>\n",
       "      <th>LightingLevel</th>\n",
       "      <th>EmotionalState</th>\n",
       "      <th>CognitiveState</th>\n",
       "      <th>EngagementLevel</th>\n",
       "    </tr>\n",
       "  </thead>\n",
       "  <tbody>\n",
       "    <tr>\n",
       "      <th>0</th>\n",
       "      <td>61</td>\n",
       "      <td>8.937204</td>\n",
       "      <td>11.794946</td>\n",
       "      <td>36.501723</td>\n",
       "      <td>3.330181</td>\n",
       "      <td>0.689238</td>\n",
       "      <td>0.189024</td>\n",
       "      <td>0.603035</td>\n",
       "      <td>136</td>\n",
       "      <td>59</td>\n",
       "      <td>394</td>\n",
       "      <td>engaged</td>\n",
       "      <td>distracted</td>\n",
       "      <td>3</td>\n",
       "    </tr>\n",
       "    <tr>\n",
       "      <th>1</th>\n",
       "      <td>60</td>\n",
       "      <td>12.635397</td>\n",
       "      <td>19.151412</td>\n",
       "      <td>36.618910</td>\n",
       "      <td>3.428995</td>\n",
       "      <td>0.561056</td>\n",
       "      <td>0.091367</td>\n",
       "      <td>0.566671</td>\n",
       "      <td>155</td>\n",
       "      <td>39</td>\n",
       "      <td>479</td>\n",
       "      <td>engaged</td>\n",
       "      <td>distracted</td>\n",
       "      <td>1</td>\n",
       "    </tr>\n",
       "    <tr>\n",
       "      <th>2</th>\n",
       "      <td>81</td>\n",
       "      <td>3.660028</td>\n",
       "      <td>6.226098</td>\n",
       "      <td>36.176898</td>\n",
       "      <td>2.819286</td>\n",
       "      <td>0.417951</td>\n",
       "      <td>0.227355</td>\n",
       "      <td>1.422475</td>\n",
       "      <td>55</td>\n",
       "      <td>30</td>\n",
       "      <td>832</td>\n",
       "      <td>partially engaged</td>\n",
       "      <td>focused</td>\n",
       "      <td>3</td>\n",
       "    </tr>\n",
       "    <tr>\n",
       "      <th>3</th>\n",
       "      <td>119</td>\n",
       "      <td>0.563070</td>\n",
       "      <td>4.542968</td>\n",
       "      <td>37.205293</td>\n",
       "      <td>2.192961</td>\n",
       "      <td>0.140186</td>\n",
       "      <td>0.502965</td>\n",
       "      <td>1.669045</td>\n",
       "      <td>39</td>\n",
       "      <td>40</td>\n",
       "      <td>602</td>\n",
       "      <td>disengaged</td>\n",
       "      <td>focused</td>\n",
       "      <td>3</td>\n",
       "    </tr>\n",
       "    <tr>\n",
       "      <th>4</th>\n",
       "      <td>118</td>\n",
       "      <td>0.477378</td>\n",
       "      <td>0.996209</td>\n",
       "      <td>37.248118</td>\n",
       "      <td>2.450139</td>\n",
       "      <td>0.064471</td>\n",
       "      <td>0.695604</td>\n",
       "      <td>1.854076</td>\n",
       "      <td>10</td>\n",
       "      <td>42</td>\n",
       "      <td>908</td>\n",
       "      <td>disengaged</td>\n",
       "      <td>focused</td>\n",
       "      <td>3</td>\n",
       "    </tr>\n",
       "  </tbody>\n",
       "</table>\n",
       "</div>"
      ],
      "text/plain": [
       "   HeartRate  SkinConductance        EEG  Temperature  PupilDiameter  \\\n",
       "0         61         8.937204  11.794946    36.501723       3.330181   \n",
       "1         60        12.635397  19.151412    36.618910       3.428995   \n",
       "2         81         3.660028   6.226098    36.176898       2.819286   \n",
       "3        119         0.563070   4.542968    37.205293       2.192961   \n",
       "4        118         0.477378   0.996209    37.248118       2.450139   \n",
       "\n",
       "   SmileIntensity  FrownIntensity  CortisolLevel  ActivityLevel  \\\n",
       "0        0.689238        0.189024       0.603035            136   \n",
       "1        0.561056        0.091367       0.566671            155   \n",
       "2        0.417951        0.227355       1.422475             55   \n",
       "3        0.140186        0.502965       1.669045             39   \n",
       "4        0.064471        0.695604       1.854076             10   \n",
       "\n",
       "   AmbientNoiseLevel  LightingLevel     EmotionalState CognitiveState  \\\n",
       "0                 59            394            engaged     distracted   \n",
       "1                 39            479            engaged     distracted   \n",
       "2                 30            832  partially engaged        focused   \n",
       "3                 40            602         disengaged        focused   \n",
       "4                 42            908         disengaged        focused   \n",
       "\n",
       "   EngagementLevel  \n",
       "0                3  \n",
       "1                1  \n",
       "2                3  \n",
       "3                3  \n",
       "4                3  "
      ]
     },
     "execution_count": 14,
     "metadata": {},
     "output_type": "execute_result"
    }
   ],
   "source": [
    "df.head()"
   ]
  },
  {
   "cell_type": "code",
   "execution_count": 15,
   "id": "df3a9ac4-85f9-4dab-9a5e-e190679bff28",
   "metadata": {},
   "outputs": [
    {
     "name": "stdout",
     "output_type": "stream",
     "text": [
      "Requirement already satisfied: scikit-learn in c:\\users\\pixel\\appdata\\local\\programs\\python\\python311\\lib\\site-packages (1.6.1)\n",
      "Requirement already satisfied: numpy>=1.19.5 in c:\\users\\pixel\\appdata\\local\\programs\\python\\python311\\lib\\site-packages (from scikit-learn) (2.2.1)\n",
      "Requirement already satisfied: scipy>=1.6.0 in c:\\users\\pixel\\appdata\\local\\programs\\python\\python311\\lib\\site-packages (from scikit-learn) (1.15.0)\n",
      "Requirement already satisfied: joblib>=1.2.0 in c:\\users\\pixel\\appdata\\local\\programs\\python\\python311\\lib\\site-packages (from scikit-learn) (1.4.2)\n",
      "Requirement already satisfied: threadpoolctl>=3.1.0 in c:\\users\\pixel\\appdata\\local\\programs\\python\\python311\\lib\\site-packages (from scikit-learn) (3.5.0)\n"
     ]
    }
   ],
   "source": [
    "! pip install scikit-learn\n",
    "\n",
    "import sklearn"
   ]
  },
  {
   "cell_type": "code",
   "execution_count": 16,
   "id": "cc4b296f-3c9f-4060-a65a-ab7933840404",
   "metadata": {},
   "outputs": [
    {
     "name": "stdout",
     "output_type": "stream",
     "text": [
      "['engaged' 'partially engaged' 'disengaged']\n",
      "['distracted' 'focused']\n"
     ]
    }
   ],
   "source": [
    "print(df['EmotionalState'].unique())\n",
    "print(df['CognitiveState'].unique())"
   ]
  },
  {
   "cell_type": "code",
   "execution_count": 19,
   "id": "77700e21-0eba-4309-8512-e90dfa75941b",
   "metadata": {},
   "outputs": [
    {
     "data": {
      "text/html": [
       "<div>\n",
       "<style scoped>\n",
       "    .dataframe tbody tr th:only-of-type {\n",
       "        vertical-align: middle;\n",
       "    }\n",
       "\n",
       "    .dataframe tbody tr th {\n",
       "        vertical-align: top;\n",
       "    }\n",
       "\n",
       "    .dataframe thead th {\n",
       "        text-align: right;\n",
       "    }\n",
       "</style>\n",
       "<table border=\"1\" class=\"dataframe\">\n",
       "  <thead>\n",
       "    <tr style=\"text-align: right;\">\n",
       "      <th></th>\n",
       "      <th>HeartRate</th>\n",
       "      <th>SkinConductance</th>\n",
       "      <th>EEG</th>\n",
       "      <th>Temperature</th>\n",
       "      <th>PupilDiameter</th>\n",
       "      <th>SmileIntensity</th>\n",
       "      <th>FrownIntensity</th>\n",
       "      <th>CortisolLevel</th>\n",
       "      <th>ActivityLevel</th>\n",
       "      <th>AmbientNoiseLevel</th>\n",
       "      <th>LightingLevel</th>\n",
       "      <th>EmotionalState</th>\n",
       "      <th>CognitiveState</th>\n",
       "      <th>EngagementLevel</th>\n",
       "    </tr>\n",
       "  </thead>\n",
       "  <tbody>\n",
       "    <tr>\n",
       "      <th>0</th>\n",
       "      <td>61</td>\n",
       "      <td>8.937204</td>\n",
       "      <td>11.794946</td>\n",
       "      <td>36.501723</td>\n",
       "      <td>3.330181</td>\n",
       "      <td>0.689238</td>\n",
       "      <td>0.189024</td>\n",
       "      <td>0.603035</td>\n",
       "      <td>136</td>\n",
       "      <td>59</td>\n",
       "      <td>394</td>\n",
       "      <td>0.0</td>\n",
       "      <td>0.0</td>\n",
       "      <td>3</td>\n",
       "    </tr>\n",
       "    <tr>\n",
       "      <th>1</th>\n",
       "      <td>60</td>\n",
       "      <td>12.635397</td>\n",
       "      <td>19.151412</td>\n",
       "      <td>36.618910</td>\n",
       "      <td>3.428995</td>\n",
       "      <td>0.561056</td>\n",
       "      <td>0.091367</td>\n",
       "      <td>0.566671</td>\n",
       "      <td>155</td>\n",
       "      <td>39</td>\n",
       "      <td>479</td>\n",
       "      <td>0.0</td>\n",
       "      <td>0.0</td>\n",
       "      <td>1</td>\n",
       "    </tr>\n",
       "    <tr>\n",
       "      <th>2</th>\n",
       "      <td>81</td>\n",
       "      <td>3.660028</td>\n",
       "      <td>6.226098</td>\n",
       "      <td>36.176898</td>\n",
       "      <td>2.819286</td>\n",
       "      <td>0.417951</td>\n",
       "      <td>0.227355</td>\n",
       "      <td>1.422475</td>\n",
       "      <td>55</td>\n",
       "      <td>30</td>\n",
       "      <td>832</td>\n",
       "      <td>1.0</td>\n",
       "      <td>1.0</td>\n",
       "      <td>3</td>\n",
       "    </tr>\n",
       "    <tr>\n",
       "      <th>3</th>\n",
       "      <td>119</td>\n",
       "      <td>0.563070</td>\n",
       "      <td>4.542968</td>\n",
       "      <td>37.205293</td>\n",
       "      <td>2.192961</td>\n",
       "      <td>0.140186</td>\n",
       "      <td>0.502965</td>\n",
       "      <td>1.669045</td>\n",
       "      <td>39</td>\n",
       "      <td>40</td>\n",
       "      <td>602</td>\n",
       "      <td>2.0</td>\n",
       "      <td>1.0</td>\n",
       "      <td>3</td>\n",
       "    </tr>\n",
       "    <tr>\n",
       "      <th>4</th>\n",
       "      <td>118</td>\n",
       "      <td>0.477378</td>\n",
       "      <td>0.996209</td>\n",
       "      <td>37.248118</td>\n",
       "      <td>2.450139</td>\n",
       "      <td>0.064471</td>\n",
       "      <td>0.695604</td>\n",
       "      <td>1.854076</td>\n",
       "      <td>10</td>\n",
       "      <td>42</td>\n",
       "      <td>908</td>\n",
       "      <td>2.0</td>\n",
       "      <td>1.0</td>\n",
       "      <td>3</td>\n",
       "    </tr>\n",
       "  </tbody>\n",
       "</table>\n",
       "</div>"
      ],
      "text/plain": [
       "   HeartRate  SkinConductance        EEG  Temperature  PupilDiameter  \\\n",
       "0         61         8.937204  11.794946    36.501723       3.330181   \n",
       "1         60        12.635397  19.151412    36.618910       3.428995   \n",
       "2         81         3.660028   6.226098    36.176898       2.819286   \n",
       "3        119         0.563070   4.542968    37.205293       2.192961   \n",
       "4        118         0.477378   0.996209    37.248118       2.450139   \n",
       "\n",
       "   SmileIntensity  FrownIntensity  CortisolLevel  ActivityLevel  \\\n",
       "0        0.689238        0.189024       0.603035            136   \n",
       "1        0.561056        0.091367       0.566671            155   \n",
       "2        0.417951        0.227355       1.422475             55   \n",
       "3        0.140186        0.502965       1.669045             39   \n",
       "4        0.064471        0.695604       1.854076             10   \n",
       "\n",
       "   AmbientNoiseLevel  LightingLevel  EmotionalState  CognitiveState  \\\n",
       "0                 59            394             0.0             0.0   \n",
       "1                 39            479             0.0             0.0   \n",
       "2                 30            832             1.0             1.0   \n",
       "3                 40            602             2.0             1.0   \n",
       "4                 42            908             2.0             1.0   \n",
       "\n",
       "   EngagementLevel  \n",
       "0                3  \n",
       "1                1  \n",
       "2                3  \n",
       "3                3  \n",
       "4                3  "
      ]
     },
     "execution_count": 19,
     "metadata": {},
     "output_type": "execute_result"
    }
   ],
   "source": [
    "# preperation\n",
    "\n",
    "from sklearn.preprocessing import StandardScaler\n",
    "from sklearn.preprocessing import OrdinalEncoder\n",
    "scaler = StandardScaler()\n",
    "#turning strings to floats\n",
    "encEmotional = OrdinalEncoder(categories = [df['EmotionalState'].unique()])\n",
    "encCognitive = OrdinalEncoder(categories = [df['CognitiveState'].unique()])\n",
    "df['EmotionalState'] = encEmotional.fit_transform(df[['EmotionalState']])\n",
    "df['CognitiveState'] = encCognitive.fit_transform(df[['CognitiveState']])\n",
    "\n",
    "df.head()\n",
    "\n"
   ]
  },
  {
   "cell_type": "code",
   "execution_count": 20,
   "id": "0938af88-9bab-4922-9116-8c2d6f40ed4d",
   "metadata": {},
   "outputs": [
    {
     "name": "stdout",
     "output_type": "stream",
     "text": [
      "[-1.64029977  0.96766499  0.58813243 -0.55870567  0.9274594   0.94425081\n",
      " -0.67374948 -1.48505306  0.96241325  1.66300728 -1.32392132 -1.22399584\n",
      " -0.94548368  0.77767259]\n"
     ]
    }
   ],
   "source": [
    "# scaling\n",
    "from sklearn.preprocessing import StandardScaler\n",
    "\n",
    "scaler = StandardScaler()\n",
    "\n",
    "df_prep = scaler.fit_transform(df)\n",
    "print(df_prep[0])"
   ]
  },
  {
   "cell_type": "code",
   "execution_count": 24,
   "id": "775c5de0-9167-47ee-ad0d-113b441ecf93",
   "metadata": {},
   "outputs": [
    {
     "name": "stdout",
     "output_type": "stream",
     "text": [
      "Requirement already satisfied: numpy in c:\\users\\pixel\\appdata\\local\\programs\\python\\python311\\lib\\site-packages (2.2.1)\n"
     ]
    }
   ],
   "source": [
    "! pip install numpy\n",
    "\n",
    "import numpy as np\n",
    "corr = np.corrcoef(df_prep.T)"
   ]
  },
  {
   "cell_type": "code",
   "execution_count": 25,
   "id": "23257f39-511b-4f6d-8682-84e09a5e6111",
   "metadata": {},
   "outputs": [
    {
     "name": "stdout",
     "output_type": "stream",
     "text": [
      "Index(['HeartRate', 'SkinConductance', 'EEG', 'Temperature', 'PupilDiameter',\n",
      "       'SmileIntensity', 'FrownIntensity', 'CortisolLevel', 'ActivityLevel',\n",
      "       'AmbientNoiseLevel', 'LightingLevel', 'EmotionalState',\n",
      "       'CognitiveState', 'EngagementLevel'],\n",
      "      dtype='object')\n",
      "(1000, 14)\n",
      "(14, 14)\n"
     ]
    }
   ],
   "source": [
    "print(df.columns)\n",
    "print(df.shape)\n",
    "print(corr.shape)\n",
    "\n"
   ]
  },
  {
   "cell_type": "code",
   "execution_count": 28,
   "id": "23be33e6-7fab-46b5-b0ae-861519894eb9",
   "metadata": {},
   "outputs": [
    {
     "name": "stdout",
     "output_type": "stream",
     "text": [
      "[8.20715038 1.10115007 1.03442568 0.97202012 0.88568031 0.95975624\n",
      " 0.01428103 0.15490946 0.13965478 0.1204043  0.09156433 0.10302271\n",
      " 0.10875577 0.10722481]\n"
     ]
    }
   ],
   "source": [
    "from numpy import linalg as LA\n",
    "eigenvalues, eigenvectors = LA.eig(corr)\n",
    "print(eigenvalues)\n",
    "# the stark difference in eigen values from the first to the remaining implies a high level of correlation which could be explained by one variable with many other variables with a smaller influence\n",
    "# first variable accounts for 58% of the variance, the top 3 account for 74% of variance"
   ]
  },
  {
   "cell_type": "code",
   "execution_count": 31,
   "id": "21c744bc-64c1-4000-97b6-08054f8d5c5d",
   "metadata": {},
   "outputs": [
    {
     "name": "stdout",
     "output_type": "stream",
     "text": [
      "[-3.30385247e-01  6.03600936e-02  1.50339261e-02  5.20467354e-02\n",
      "  2.66705963e-03  6.68870527e-05 -1.21078561e-01 -7.43881813e-02\n",
      "  6.32748088e-02 -4.29813436e-01 -6.48182824e-03 -5.78377869e-02\n",
      "  8.09186586e-01 -1.30970161e-01]\n",
      "[ 0.31081722  0.17806044  0.10216028  0.140087   -0.17157724 -0.01682645\n",
      "  0.11079287  0.79196299  0.05201317 -0.20311887  0.16594236  0.10983354\n",
      "  0.13306067  0.26675019]\n",
      "[ 3.26666880e-01  8.53073162e-02  3.84452050e-02  8.17843825e-02\n",
      " -8.25900564e-02 -2.45457936e-02  1.25127917e-01 -4.20707011e-01\n",
      " -3.66125787e-05  2.91565924e-01  6.94791880e-02 -6.63591464e-02\n",
      "  3.61006747e-01  6.73202971e-01]\n"
     ]
    }
   ],
   "source": [
    "print(eigenvectors[0])\n",
    "print(eigenvectors[1])\n",
    "print(eigenvectors[2])"
   ]
  },
  {
   "cell_type": "code",
   "execution_count": 53,
   "id": "aa1f7fdd-ed89-4c36-ab2a-4d439a614a69",
   "metadata": {},
   "outputs": [
    {
     "name": "stdout",
     "output_type": "stream",
     "text": [
      "(14,)\n",
      "(14,)\n",
      "(14,)\n",
      "\n",
      "[-0.33038525  0.31081722  0.32666688 -0.15927825  0.32585023  0.33140746\n",
      " -0.32937948 -0.33225238  0.32507098 -0.00514406 -0.00035349 -0.34646773\n",
      " -0.00224119 -0.039026  ]\n",
      "[-3.30385247e-01  6.03600936e-02  1.50339261e-02  5.20467354e-02\n",
      "  2.66705963e-03  6.68870527e-05 -1.21078561e-01 -7.43881813e-02\n",
      "  6.32748088e-02 -4.29813436e-01 -6.48182824e-03 -5.78377869e-02\n",
      "  8.09186586e-01 -1.30970161e-01]\n",
      "[-3.30385247e-01  6.03600936e-02  1.50339261e-02  5.20467354e-02\n",
      "  2.66705963e-03  6.68870527e-05 -1.21078561e-01 -7.43881813e-02\n",
      "  6.32748088e-02 -4.29813436e-01 -6.48182824e-03 -5.78377869e-02\n",
      "  8.09186586e-01 -1.30970161e-01]\n"
     ]
    }
   ],
   "source": [
    "# axis= np.matrix([df * eigenvectors[0], df * eigenvectors[1]])\n",
    "df_matrix = np.matrix(df)\n",
    "print(eigenvectors.T[0].shape)\n",
    "print(eigenvectors[0].transpose().shape)\n",
    "print(eigenvectors[0].shape)\n",
    "print(\"\")\n",
    "print(eigenvectors.T[0])\n",
    "print(eigenvectors[0].T)\n",
    "print(eigenvectors[0])\n"
   ]
  },
  {
   "cell_type": "code",
   "execution_count": 88,
   "id": "fb37c6e1-e596-4300-8205-c4214f9ba52c",
   "metadata": {},
   "outputs": [
    {
     "data": {
      "image/png": "[encoded data removed]",
      "text/plain": [
       "<Figure size 640x480 with 1 Axes>"
      ]
     },
     "metadata": {},
     "output_type": "display_data"
    }
   ],
   "source": [
    "axis = np.array([[eigenvectors[0] * df_matrix.transpose()], \n",
    "                 [eigenvectors[1]* df_matrix.transpose()]])\n",
    "\n",
    "plt.scatter(axis[0], axis[1])\n",
    "plt.show()"
   ]
  },
  {
   "cell_type": "code",
   "execution_count": 84,
   "id": "69474a5f-40fd-4ac5-bba6-17edd277c85c",
   "metadata": {},
   "outputs": [
    {
     "name": "stdout",
     "output_type": "stream",
     "text": [
      "HeartRate\n",
      "SkinConductance\n",
      "EEG\n",
      "Temperature\n",
      "PupilDiameter\n",
      "SmileIntensity\n",
      "FrownIntensity\n",
      "CortisolLevel\n",
      "ActivityLevel\n",
      "AmbientNoiseLevel\n",
      "LightingLevel\n",
      "EmotionalState\n",
      "CognitiveState\n",
      "EngagementLevel\n",
      "-0.3303852467029443\n",
      "0.06036009359898652\n",
      "0.015033926112002742\n",
      "0.052046735370304346\n",
      "0.002667059631794673\n",
      "6.68870527499411e-05\n",
      "-0.12107856066657603\n",
      "-0.07438818134208519\n",
      "0.06327480878809595\n",
      "-0.4298134360054729\n",
      "-0.006481828238846027\n",
      "-0.057837786949104866\n",
      "0.8091865860931564\n",
      "-0.1309701614859095\n"
     ]
    }
   ],
   "source": [
    "for x in df.columns:\n",
    "    print(x)\n",
    "\n",
    "for y in eigenvectors[0]:\n",
    "    print(y)    "
   ]
  },
  {
   "cell_type": "code",
   "execution_count": 86,
   "id": "9826f6f9-8d52-4e53-82e0-b9f044038d08",
   "metadata": {},
   "outputs": [
    {
     "data": {
      "text/plain": [
       "(1, 1, 1000)"
      ]
     },
     "execution_count": 86,
     "metadata": {},
     "output_type": "execute_result"
    }
   ],
   "source": [
    "axis[0].shape"
   ]
  },
  {
   "cell_type": "code",
   "execution_count": null,
   "id": "148b5a82-547f-4753-b20c-b882b121a3fc",
   "metadata": {},
   "outputs": [],
   "source": []
  }
 ],
 "metadata": {
  "kernelspec": {
   "display_name": "Python 3 (ipykernel)",
   "language": "python",
   "name": "python3"
  },
  "language_info": {
   "codemirror_mode": {
    "name": "ipython",
    "version": 3
   },
   "file_extension": ".py",
   "mimetype": "text/x-python",
   "name": "python",
   "nbconvert_exporter": "python",
   "pygments_lexer": "ipython3",
   "version": "3.11.4"
  }
 },
 "nbformat": 4,
 "nbformat_minor": 5
}
